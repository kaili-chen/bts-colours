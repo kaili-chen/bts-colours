{
 "cells": [
  {
   "cell_type": "markdown",
   "metadata": {},
   "source": [
    "# Exploration into Dominant Colours"
   ]
  },
  {
   "cell_type": "markdown",
   "metadata": {},
   "source": [
    "required libraries"
   ]
  },
  {
   "cell_type": "code",
   "execution_count": 1,
   "metadata": {},
   "outputs": [],
   "source": [
    "# pip install opencv-python\n",
    "# pip install sklearn"
   ]
  },
  {
   "cell_type": "code",
   "execution_count": 5,
   "metadata": {},
   "outputs": [],
   "source": [
    "import cv2\n",
    "import numpy as np\n",
    "import matplotlib.pyplot as plt\n",
    "from sklearn.cluster import KMeans\n",
    "import os\n",
    "import sys\n",
    "import sklearn\n",
    "import csv\n",
    "\n",
    "%matplotlib inline"
   ]
  },
  {
   "cell_type": "code",
   "execution_count": 6,
   "metadata": {},
   "outputs": [],
   "source": [
    "def get_k_via_silhouette(img):\n",
    "\n",
    "    K = range(2,6)\n",
    "    sil_scores = list()\n",
    "\n",
    "    # use 1% of original image (to save time)\n",
    "    sample_size_to_test = int(img.shape[0]*0.01)\n",
    "    print('sample size:', sample_size_to_test)\n",
    "\n",
    "    for k in K:\n",
    "        km = KMeans(n_clusters=k)\n",
    "    #     km.fit(img)\n",
    "        labels = km.fit_predict(img)\n",
    "    #     print(labels)\n",
    "        sil_sc = sklearn.metrics.silhouette_score(img, labels, sample_size=sample_size_to_test, random_state=None)\n",
    "        sil_scores.append(sil_sc)\n",
    "#         print('K =', k, ', silhouette score =', sil_sc)\n",
    "    \n",
    "    optimal_k = K[sil_scores.index(max(sil_scores))]\n",
    "#     print (\"Optimal number of components:\", Optimal_NumberOf_Components)\n",
    "    return optimal_k"
   ]
  },
  {
   "cell_type": "markdown",
   "metadata": {},
   "source": [
    "get k (optimal clusters) for each image -> !! run once"
   ]
  },
  {
   "cell_type": "code",
   "execution_count": 9,
   "metadata": {
    "scrolled": true
   },
   "outputs": [],
   "source": [
    "albums_dir = './albums'\n",
    "albums = os.listdir(albums_dir)\n",
    "\n",
    "# img_k = []\n",
    "# for album in albums:\n",
    "#     img = cv2.imread(albums_dir + '/' + album)\n",
    "#     img = cv2.cvtColor(img, cv2.COLOR_BGR2RGB)\n",
    "#     img = img.reshape(img.shape[0]*img.shape[1], 3)\n",
    "#     k = get_k_via_silhouette(img)\n",
    "#     print(album, ', k ->', k)\n",
    "#     img_k.append([album, k])\n",
    "    \n",
    "# csv_file=open('img_k.csv','w', newline='')\n",
    "# obj=csv.writer(csv_file)\n",
    "# for i in img_k:\n",
    "#     obj.writerow(i)\n",
    "# csv_file.close()"
   ]
  },
  {
   "cell_type": "code",
   "execution_count": 3,
   "metadata": {},
   "outputs": [
    {
     "name": "stdout",
     "output_type": "stream",
     "text": [
      "dimensions of image: (638, 640, 3)\n",
      "dimensions of flattened image: (408320, 3)\n"
     ]
    },
    {
     "data": {
      "image/png": "[encoded data removed]",
      "text/plain": [
       "<Figure size 432x288 with 1 Axes>"
      ]
     },
     "metadata": {
      "needs_background": "light"
     },
     "output_type": "display_data"
    }
   ],
   "source": [
    "img_path = 'test.jpg'\n",
    "\n",
    "img = cv2.imread(img_path)\n",
    "img = cv2.cvtColor(img, cv2.COLOR_BGR2RGB)\n",
    "\n",
    "plt.axis(\"off\")\n",
    "plt.imshow(img)\n",
    "img_shape = img.shape\n",
    "print('dimensions of image:', img.shape)\n",
    "\n",
    "# might want to resize particularly large image to save on processing time\n",
    "# https://www.tutorialkart.com/opencv/python/opencv-python-resize-image/\n",
    "\n",
    "# dimension reduction\n",
    "img = img.reshape(img.shape[0]*img.shape[1], 3)\n",
    "print('dimensions of flattened image:', img.shape)\n"
   ]
  },
  {
   "cell_type": "markdown",
   "metadata": {},
   "source": [
    "## Getting k dominant colours from image"
   ]
  },
  {
   "cell_type": "code",
   "execution_count": 4,
   "metadata": {
    "scrolled": true
   },
   "outputs": [
    {
     "data": {
      "text/plain": [
       "[[246, 117, 153], [253, 234, 239]]"
      ]
     },
     "execution_count": 4,
     "metadata": {},
     "output_type": "execute_result"
    }
   ],
   "source": [
    "# set number of dominant colours to get (k)\n",
    "k = 2\n",
    "\n",
    "km = KMeans(n_clusters=k) #cluster number\n",
    "km.fit(img)\n",
    "# print(clt.cluster_centers_)\n",
    "\n",
    "# clusters are the dominant colours kmeans derived## Getting k dominant colours from image\n",
    "## Getting k dominant colours from image\n",
    "# convert floats to int cos RGB values need to be int\n",
    "colours = [c.astype(\"uint8\").tolist() for c in km.cluster_centers_]\n",
    "colours"
   ]
  },
  {
   "cell_type": "markdown",
   "metadata": {},
   "source": [
    "## Displaying Dominant Colours"
   ]
  },
  {
   "cell_type": "markdown",
   "metadata": {},
   "source": [
    "As a horizontal bar with squares of each colour"
   ]
  },
  {
   "cell_type": "code",
   "execution_count": 5,
   "metadata": {
    "scrolled": true
   },
   "outputs": [
    {
     "data": {
      "image/png": "[encoded data removed]",
      "text/plain": [
       "<Figure size 432x288 with 1 Axes>"
      ]
     },
     "metadata": {
      "needs_background": "light"
     },
     "output_type": "display_data"
    }
   ],
   "source": [
    "bar = np.zeros((50, (50*k), 3), dtype=\"uint8\")\n",
    "\n",
    "for c in range(0, len(colours)):\n",
    "    bar[:, c*50:50*(c+1)] = colours[c]\n",
    "    \n",
    "plt.axis(\"off\")\n",
    "plt.imshow(bar)\n",
    "plt.show()"
   ]
  },
  {
   "cell_type": "markdown",
   "metadata": {},
   "source": [
    "Show dominant colours in a bar relative to each other\n",
    "\n",
    "Code adapted from [Finding Dominant Colour on an Image](https://code.likeagirl.io/finding-dominant-colour-on-an-image-b4e075f98097)"
   ]
  },
  {
   "cell_type": "code",
   "execution_count": 6,
   "metadata": {
    "scrolled": true
   },
   "outputs": [
    {
     "data": {
      "image/png": "[encoded data removed]",
      "text/plain": [
       "<Figure size 432x288 with 1 Axes>"
      ]
     },
     "metadata": {
      "needs_background": "light"
     },
     "output_type": "display_data"
    }
   ],
   "source": [
    "num_labels = np.arange(0, len(np.unique(km.labels_)) + 1)\n",
    "(hist, _) = np.histogram(km.labels_, bins=num_labels)\n",
    "hist = hist.astype(\"float\")\n",
    "hist /= hist.sum()\n",
    "# print(hist)\n",
    "\n",
    "bar = np.zeros((50, 300, 3), dtype=\"uint8\")\n",
    "startX = 0\n",
    "\n",
    "for (percent, color) in zip(hist, km.cluster_centers_):\n",
    "        # plot the relative percentage of each cluster\n",
    "    endX = startX + (percent * 300)\n",
    "    cv2.rectangle(bar, (int(startX), 0), (int(endX), 50), color.astype(\"uint8\").tolist(), -1)\n",
    "    startX = endX\n",
    "\n",
    "plt.axis(\"off\")\n",
    "plt.imshow(bar)\n",
    "plt.show()"
   ]
  },
  {
   "cell_type": "markdown",
   "metadata": {},
   "source": [
    "Display where the top 3 colours appear in the picture"
   ]
  },
  {
   "cell_type": "code",
   "execution_count": 7,
   "metadata": {
    "scrolled": true
   },
   "outputs": [
    {
     "data": {
      "image/png": "[encoded data removed]",
      "text/plain": [
       "<Figure size 720x216 with 2 Axes>"
      ]
     },
     "metadata": {
      "needs_background": "light"
     },
     "output_type": "display_data"
    }
   ],
   "source": [
    "image = cv2.imread(img_path)\n",
    "image = cv2.cvtColor(image, cv2.COLOR_BGR2RGB)\n",
    "\n",
    "fig, axs = plt.subplots(1, k, figsize=(10, 3))\n",
    "\n",
    "for ax, colour in zip(axs, colours):\n",
    "    dis = np.zeros(image.shape, dtype='uint8')\n",
    "    dis[:,:] = [255, 255, 255]\n",
    "    locs = np.where(image == colour)\n",
    "    r = locs[0]\n",
    "    c = locs[1]\n",
    "    dis[r, c] = colour\n",
    "    ax.imshow(dis)\n",
    "    ax.set_title(colour)\n"
   ]
  },
  {
   "cell_type": "markdown",
   "metadata": {},
   "source": [
    "# Determining k (number of clusters)"
   ]
  },
  {
   "cell_type": "markdown",
   "metadata": {},
   "source": [
    "## 1. Elbow Method"
   ]
  },
  {
   "cell_type": "markdown",
   "metadata": {},
   "source": [
    "The inflexion point is the ideal k (number of clusters)"
   ]
  },
  {
   "cell_type": "code",
   "execution_count": null,
   "metadata": {},
   "outputs": [],
   "source": [
    "Sum_of_squared_distances = []\n",
    "\n",
    "# set range from 1 to 5\n",
    "K = range(1,6)\n",
    "for k in K:\n",
    "    km = KMeans(n_clusters=k)\n",
    "    km = km.fit(img)\n",
    "    Sum_of_squared_distances.append(km.inertia_)\n",
    "\n",
    "Sum_of_squared_distances"
   ]
  },
  {
   "cell_type": "code",
   "execution_count": null,
   "metadata": {},
   "outputs": [],
   "source": [
    "plt.plot(K, Sum_of_squared_distances, 'bx-')\n",
    "plt.xlabel('k')\n",
    "plt.ylabel('Sum_of_squared_distances')\n",
    "plt.title('Elbow Method For Optimal k')\n",
    "plt.show()"
   ]
  },
  {
   "cell_type": "markdown",
   "metadata": {},
   "source": [
    "## 2. Silhouette Coefficient"
   ]
  },
  {
   "cell_type": "markdown",
   "metadata": {},
   "source": [
    "* measure of how similar an object is to its own cluster (cohesion) compared to other clusters (separation)\n",
    "* Measure has range [-1, 1]\n",
    "    * near +1: sample far away from neighbouring samples\n",
    "    * 0: sample on / very close to decision boundary between 2 neighbouring clusters\n",
    "    * -ve: samples might have been assigned to the wrong cluster\n",
    "\n",
    "References\n",
    "* [Selecting the number of clusters with silhouette analysis on KMeans clustering](https://scikit-learn.org/stable/auto_examples/cluster/plot_kmeans_silhouette_analysis.html)"
   ]
  },
  {
   "cell_type": "code",
   "execution_count": null,
   "metadata": {},
   "outputs": [],
   "source": [
    "import sklearn\n",
    "\n",
    "# set range from 2 to 5 (cannot have 1 cluster cos silhouette score requires 2 clusters to compare)\n",
    "K = range(2,6)\n",
    "sil_scores = list()\n",
    "\n",
    "# use 1% of original image (to save time)\n",
    "sample_size_to_test = int(img.shape[0]*0.01)\n",
    "print('sample size:', sample_size_to_test)\n",
    "\n",
    "for k in K:\n",
    "    km = KMeans(n_clusters=k)\n",
    "#     km.fit(img)\n",
    "    labels = km.fit_predict(img)\n",
    "#     print(labels)\n",
    "    sil_sc = sklearn.metrics.silhouette_score(img, labels, sample_size=sample_size_to_test, random_state=None)\n",
    "    sil_scores.append(sil_sc)\n",
    "    print('K =', k, ', silhouette score =', sil_sc)\n",
    "    \n",
    "sil_scores"
   ]
  },
  {
   "cell_type": "code",
   "execution_count": null,
   "metadata": {},
   "outputs": [],
   "source": [
    "plt.plot(K, sil_scores, 'bx-')\n",
    "plt.xlabel('k')\n",
    "plt.ylabel('silhouette score')\n",
    "plt.title('Silhouette Score vs k')\n",
    "plt.show()\n",
    "\n",
    "Optimal_NumberOf_Components = K[sil_scores.index(max(sil_scores))]\n",
    "print (\"Optimal number of components:\", Optimal_NumberOf_Components)"
   ]
  },
  {
   "cell_type": "code",
   "execution_count": null,
   "metadata": {},
   "outputs": [],
   "source": []
  }
 ],
 "metadata": {
  "kernelspec": {
   "display_name": "env",
   "language": "python",
   "name": "env"
  },
  "language_info": {
   "codemirror_mode": {
    "name": "ipython",
    "version": 3
   },
   "file_extension": ".py",
   "mimetype": "text/x-python",
   "name": "python",
   "nbconvert_exporter": "python",
   "pygments_lexer": "ipython3",
   "version": "3.6.10"
  }
 },
 "nbformat": 4,
 "nbformat_minor": 4
}
