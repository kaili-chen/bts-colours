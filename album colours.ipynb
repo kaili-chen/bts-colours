{
 "cells": [
  {
   "cell_type": "markdown",
   "metadata": {},
   "source": [
    "# Album Colours"
   ]
  },
  {
   "cell_type": "markdown",
   "metadata": {},
   "source": [
    "installation and importation of required libraries"
   ]
  },
  {
   "cell_type": "code",
   "execution_count": 1,
   "metadata": {},
   "outputs": [],
   "source": [
    "# pip install opencv-python\n",
    "# pip install sklearn"
   ]
  },
  {
   "cell_type": "code",
   "execution_count": 2,
   "metadata": {},
   "outputs": [],
   "source": [
    "import cv2\n",
    "import numpy as np\n",
    "import matplotlib.pyplot as plt\n",
    "from sklearn.cluster import KMeans\n",
    "import os\n",
    "import sys\n",
    "import sklearn\n",
    "import csv\n",
    "import json\n",
    "\n",
    "%matplotlib inline"
   ]
  },
  {
   "cell_type": "markdown",
   "metadata": {},
   "source": [
    "get optimal k with the silhouette method"
   ]
  },
  {
   "cell_type": "code",
   "execution_count": 3,
   "metadata": {},
   "outputs": [],
   "source": [
    "def get_k_via_silhouette(img, rng=[2,3]):\n",
    "\n",
    "    K = range(rng[0], rng[1])\n",
    "    sil_scores = list()\n",
    "    resized_img = cv2.resize(img, (100, 100), interpolation = cv2.INTER_AREA)\n",
    "    # use 1% of original image (to save time)\n",
    "#     sample_size_to_test = int(img.shape[0]*0.01)\n",
    "#     print('sample size:', sample_size_to_test)\n",
    "    resized_img = resized_img.reshape(resized_img.shape[0]*resized_img.shape[1], 3)\n",
    "    for k in K:\n",
    "        km = KMeans(n_clusters=k)\n",
    "        labels = km.fit_predict(resized_img)\n",
    "        sil_sc = sklearn.metrics.silhouette_score(resized_img, labels, random_state=None)\n",
    "        sil_scores.append(sil_sc)\n",
    "    \n",
    "    optimal_k = K[sil_scores.index(max(sil_scores))]\n",
    "    return optimal_k"
   ]
  },
  {
   "cell_type": "code",
   "execution_count": 4,
   "metadata": {},
   "outputs": [],
   "source": [
    "# needs improvment\n",
    "# bar is added as additional columns for now\n",
    "# border options?\n",
    "# add option to include name of colour\n",
    "def add_colour_bar(img, colours, border=False, extra_width=200):\n",
    "    combined = np.zeros((img.shape[0], img.shape[1]+extra_width, 3))\n",
    "\n",
    "    colour_bar = np.zeros((img.shape[0], extra_width, 3), dtype='uint8')\n",
    "\n",
    "    step = int(og_img.shape[0]/k)\n",
    "    for c in range(0, len(colours)):\n",
    "        colour_bar[(c*step):(c+1)*step, :] = colours[c]\n",
    "    \n",
    "    if border: \n",
    "        border = np.zeros((og_img.shape[0], 2, 3), dtype='uint8')\n",
    "        combined_img = np.concatenate((og_img, border, colour_bar), axis=1)\n",
    "    else: \n",
    "        combined_img = np.concatenate((og_img, colour_bar), axis=1)\n",
    "    return combined_img"
   ]
  },
  {
   "cell_type": "code",
   "execution_count": 5,
   "metadata": {},
   "outputs": [],
   "source": [
    "def rgb_to_hex(rgb):\n",
    "    rgb = [hex(i)[2:] for i in rgb]\n",
    "    return '#'+''.join(rgb)"
   ]
  },
  {
   "cell_type": "code",
   "execution_count": 6,
   "metadata": {},
   "outputs": [
    {
     "name": "stdout",
     "output_type": "stream",
     "text": [
      "{'title': '', 'file_name': {'album_title': 'Map of the Soul: 7', 'alt_title': 'Map of the Soul 7', 'date_kst': '2020-02-21', 'img_file': 'map-of-the-soul-7.jpg', 'type': 'studio', 'colours': [{'hex': '#fefdfb', 'percent': 0.86}, {'hex': '#5193b9', 'percent': 0.14}]}, 'k': 2, 'colours': [{'hex': '#fefdfb', 'percent': 0.86}, {'hex': '#5193b9', 'percent': 0.14}]}\n",
      "{'title': '', 'file_name': {'album_title': 'Map of the Soul: 7 Black Swan', 'alt_title': 'Map of the Soul 7 Black Swan', 'date_kst': '2020-02-21', 'img_file': 'map-of-the-soul-7-black-swan.jpg', 'type': 'single', 'colours': [{'hex': '#fdfdfe', 'percent': 0.87}, {'hex': '#35405a', 'percent': 0.13}]}, 'k': 2, 'colours': [{'hex': '#fdfdfe', 'percent': 0.87}, {'hex': '#35405a', 'percent': 0.13}]}\n",
      "{'title': '', 'file_name': {'album_title': 'Map of the Soul: Persona', 'alt_title': 'Map of the Soul Persona', 'date_kst': '2019-04-12', 'img_file': 'map-of-the-soul-persona.jpg', 'type': 'mini', 'colours': [{'hex': '#f67599', 'percent': 0.98}, {'hex': '#fdeaef', 'percent': 0.02}]}, 'k': 2, 'colours': [{'hex': '#f67599', 'percent': 0.98}, {'hex': '#fdeaef', 'percent': 0.02}]}\n",
      "{'title': '', 'file_name': {'album_title': \"Love Yourself 結 'Answer'\", 'alt_title': 'Love Yourself Answer', 'date_kst': '2018-08-24', 'img_file': 'love-yourself-answer.jpg', 'type': 'compilation', 'colours': [{'hex': '#eaafc9', 'percent': 0.46}, {'hex': '#c9bcde', 'percent': 0.54}]}, 'k': 2, 'colours': [{'hex': '#eaafc9', 'percent': 0.46}, {'hex': '#c9bcde', 'percent': 0.54}]}\n",
      "{'title': '', 'file_name': {'album_title': \"Love Yourself 轉 'Tear'\", 'alt_title': 'Love Yourself Tear', 'date_kst': '2018-05-18', 'img_file': 'love-yourself-tear.jpg', 'type': 'studio', 'colours': [{'hex': '#151923', 'percent': 0.97}, {'hex': '#cbbad6', 'percent': 0.03}]}, 'k': 2, 'colours': [{'hex': '#151923', 'percent': 0.97}, {'hex': '#cbbad6', 'percent': 0.03}]}\n",
      "{'title': '', 'file_name': {'album_title': \"Love Yourself 承 'Her'\", 'alt_title': 'Love Yourself Her', 'date_kst': '2017-09-18', 'img_file': 'love-yourself-her.jpg', 'type': 'mini', 'colours': [{'hex': '#f4f7fc', 'percent': 0.96}, {'hex': '#c5bdd8', 'percent': 0.04}]}, 'k': 2, 'colours': [{'hex': '#f4f7fc', 'percent': 0.96}, {'hex': '#c5bdd8', 'percent': 0.04}]}\n",
      "{'title': '', 'file_name': {'album_title': 'You Never Walk Alone', 'alt_title': 'You Never Walk Alone', 'date_kst': '2017-02-13', 'img_file': 'you-never-walk-alone.jpg', 'type': 'repackage', 'colours': [{'hex': '#c0d3cf', 'percent': 0.86}, {'hex': '#40332d', 'percent': 0.14}]}, 'k': 2, 'colours': [{'hex': '#c0d3cf', 'percent': 0.86}, {'hex': '#40332d', 'percent': 0.14}]}\n",
      "{'title': '', 'file_name': {'album_title': 'Wings', 'alt_title': 'Wings', 'date_kst': '2016-10-10', 'img_file': 'wings.jpg', 'type': 'studio', 'colours': [{'hex': '#222222', 'percent': 0.17}, {'hex': '#fdfdfd', 'percent': 0.83}]}, 'k': 2, 'colours': [{'hex': '#222222', 'percent': 0.17}, {'hex': '#fdfdfd', 'percent': 0.83}]}\n",
      "{'title': '', 'file_name': {'album_title': '花樣年華 Young Forever', 'alt_title': 'The Most Beautiful Moment in Life: Young Forever', 'date_kst': '2016-05-02', 'img_file': 'hwayangyeonhwa-young-forever.jpg', 'type': 'compilation', 'colours': [{'hex': '#a09c46', 'percent': 0.15}, {'hex': '#efefec', 'percent': 0.85}]}, 'k': 2, 'colours': [{'hex': '#a09c46', 'percent': 0.15}, {'hex': '#efefec', 'percent': 0.85}]}\n",
      "{'title': '', 'file_name': {'album_title': '花樣年華 pt.2', 'alt_title': 'The Most Beautiful Moment in Life pt.2', 'date_kst': '2015-09-30', 'img_file': 'hwayangyeonhwa-pt2.jpg', 'type': 'mini', 'colours': [{'hex': '#b7d9e9', 'percent': 0.87}, {'hex': '#5e8292', 'percent': 0.13}]}, 'k': 2, 'colours': [{'hex': '#b7d9e9', 'percent': 0.87}, {'hex': '#5e8292', 'percent': 0.13}]}\n",
      "{'title': '', 'file_name': {'album_title': '花樣年華 pt.1', 'alt_title': 'The Most Beautiful Moment in Life pt.1', 'date_kst': '2015-04-29', 'img_file': 'hwayangyeonhwa-pt1.jpg', 'type': 'mini', 'colours': [{'hex': '#faf0ef', 'percent': 0.7}, {'hex': '#eac6c3', 'percent': 0.3}]}, 'k': 2, 'colours': [{'hex': '#faf0ef', 'percent': 0.7}, {'hex': '#eac6c3', 'percent': 0.3}]}\n",
      "{'title': '', 'file_name': {'album_title': 'Dark & Wild', 'alt_title': 'Dark and Wild', 'date_kst': '2014-08-19', 'img_file': 'dark-and-wild.jpg', 'type': 'studio', 'colours': [{'hex': '#1e1a1a', 'percent': 0.93}, {'hex': '#e0dddd', 'percent': 0.07}]}, 'k': 2, 'colours': [{'hex': '#1e1a1a', 'percent': 0.93}, {'hex': '#e0dddd', 'percent': 0.07}]}\n",
      "{'title': '', 'file_name': {'album_title': 'Skool Luv Affair', 'alt_title': 'Skool Luv Affair', 'date_kst': '2014-02-12', 'img_file': 'skool-luv-affair.jpg', 'type': 'mini', 'colours': [{'hex': '#384b3e', 'percent': 0.86}, {'hex': '#e5b6c0', 'percent': 0.14}]}, 'k': 2, 'colours': [{'hex': '#384b3e', 'percent': 0.86}, {'hex': '#e5b6c0', 'percent': 0.14}]}\n",
      "{'title': '', 'file_name': {'album_title': 'O!RUL82?', 'alt_title': 'ORUL82', 'date_kst': '2013-09-11', 'img_file': 'orul82.jpg', 'type': 'mini', 'colours': [{'hex': '#fdfdfd', 'percent': 0.95}, {'hex': '#cfdd', 'percent': 0.05}]}, 'k': 2, 'colours': [{'hex': '#fdfdfd', 'percent': 0.95}, {'hex': '#cfdd', 'percent': 0.05}]}\n",
      "{'title': '', 'file_name': {'album_title': '2 Cool 4 Skool', 'alt_title': '2 Cool 4 Skool', 'date_kst': '2013-06-12', 'img_file': '2-cool-4-skool.jpg', 'type': 'mini', 'colours': [{'hex': '#292728', 'percent': 0.97}, {'hex': '#c8a651', 'percent': 0.03}]}, 'k': 2, 'colours': [{'hex': '#292728', 'percent': 0.97}, {'hex': '#c8a651', 'percent': 0.03}]}\n"
     ]
    }
   ],
   "source": [
    "album_data = []\n",
    "with open('bts_albums.csv') as csvfile:\n",
    "    csvReader = csv.reader(csvfile, delimiter=',')\n",
    "    headers = next(csvReader, None)\n",
    "    headers[0] = 'album_title'\n",
    "\n",
    "    for row in csvReader:\n",
    "        album_data.append({ headers[i] : row[i] for i in range(0, len(headers)) })\n",
    "        \n",
    "# with open('albums_data.json', 'w') as outfile:\n",
    "#     json.dump(album_data, outfile, indent=4, ensure_ascii=False)# albums_dir = './albums'\n",
    "\n",
    "albums_dir = './albums'\n",
    "        \n",
    "data = []\n",
    "for album in album_data:\n",
    "    img_path = albums_dir + '/' + album['img_file']\n",
    "    og_img = cv2.imread(img_path)\n",
    "    if og_img is None: continue\n",
    "    og_img = cv2.cvtColor(og_img, cv2.COLOR_BGR2RGB)\n",
    "    \n",
    "    img = og_img.reshape(og_img.shape[0]*og_img.shape[1], 3)\n",
    "    k = get_k_via_silhouette(og_img)\n",
    "    \n",
    "    km = KMeans(n_clusters=k)\n",
    "    km.fit(img)\n",
    "    \n",
    "    num_labels = np.arange(0, len(np.unique(km.labels_)) + 1)\n",
    "    (hist, _) = np.histogram(km.labels_, bins=num_labels)\n",
    "    hist = hist.astype(\"float\")\n",
    "    hist /= hist.sum()\n",
    "    \n",
    "    colours = []\n",
    "    colours_percent = []\n",
    "    for (percent, color) in zip(hist, km.cluster_centers_):\n",
    "        colour = color.astype(\"uint8\").tolist()\n",
    "        colours.append(colour)\n",
    "        colours_percent.append({'hex': rgb_to_hex(colour), 'percent': float(\"{0:.2f}\".format(percent))})\n",
    "        \n",
    "    album['colours'] = colours_percent\n",
    "#     print(album)\n",
    "    data.append(album)\n",
    "    print({'title': '', 'file_name': album, 'k': k, 'colours': colours_percent})\n",
    "    \n",
    "    \n",
    "    colours = [c.astype(\"uint8\").tolist() for c in km.cluster_centers_]\n",
    "    combined_img = add_colour_bar(og_img, colours)\n",
    "    cv2.imwrite('./album_colours/' + album['img_file'], cv2.cvtColor(combined_img, cv2.COLOR_BGR2RGB))\n",
    "    \n",
    "#     print({'title': '', 'file_name': album, 'k': k, 'colours': colours})\n",
    "\n",
    "with open('albums_colours_data.json', 'w') as outfile:\n",
    "    json.dump(data, outfile, indent=4, ensure_ascii=False)# albums_dir = './albums'"
   ]
  }
 ],
 "metadata": {
  "kernelspec": {
   "display_name": "env",
   "language": "python",
   "name": "env"
  },
  "language_info": {
   "codemirror_mode": {
    "name": "ipython",
    "version": 3
   },
   "file_extension": ".py",
   "mimetype": "text/x-python",
   "name": "python",
   "nbconvert_exporter": "python",
   "pygments_lexer": "ipython3",
   "version": "3.6.10"
  }
 },
 "nbformat": 4,
 "nbformat_minor": 4
}
